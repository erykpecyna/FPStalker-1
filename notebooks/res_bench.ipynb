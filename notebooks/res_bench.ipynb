{
 "cells": [
  {
   "cell_type": "code",
   "execution_count": 2,
   "metadata": {},
   "outputs": [],
   "source": [
    "%matplotlib inline\n",
    "import matplotlib\n",
    "import matplotlib.pyplot as plt\n",
    "import numpy as np\n",
    "import pandas as pd\n",
    "import os\n",
    "import re\n",
    "from sklearn.externals import joblib\n",
    "\n",
    "import sys \n",
    "sys.path.append('..')\n",
    "from algo import generateHeader"
   ]
  },
  {
   "cell_type": "code",
   "execution_count": 4,
   "metadata": {},
   "outputs": [],
   "source": [
    "df = pd.read_csv(\"../benchres/bench_final.csv\")\n",
    "df_rules = pd.read_csv(\"../benchres/benchrules.csv\")"
   ]
  },
  {
   "cell_type": "code",
   "execution_count": 6,
   "metadata": {},
   "outputs": [],
   "source": [
    "def customized_box_plot(percentiles, axes, redraw = True, *args, **kwargs):\n",
    "    \"\"\"\n",
    "    Generates a customized boxplot based on the given percentile values\n",
    "    \"\"\"\n",
    "    n_box = len(percentiles)\n",
    "    box_plot = axes.boxplot([[-9, -4, 2, 4, 9],]*n_box, *args, **kwargs) \n",
    "    # Creates len(percentiles) no of box plots\n",
    "\n",
    "    min_y, max_y = float('inf'), -float('inf')\n",
    "\n",
    "    for box_no, pdata in enumerate(percentiles):\n",
    "        if len(pdata) == 6:\n",
    "            (q1_start, q2_start, q3_start, q4_start, q4_end, fliers_xy) = pdata\n",
    "        elif len(pdata) == 5:\n",
    "            (q1_start, q2_start, q3_start, q4_start, q4_end) = pdata\n",
    "            fliers_xy = None\n",
    "        else:\n",
    "            raise ValueError(\"Percentile arrays for customized_box_plot must have either 5 or 6 values\")\n",
    "\n",
    "        # Lower cap\n",
    "        box_plot['caps'][2*box_no].set_ydata([q1_start, q1_start])\n",
    "        # xdata is determined by the width of the box plot\n",
    "\n",
    "        # Lower whiskers\n",
    "        box_plot['whiskers'][2*box_no].set_ydata([q1_start, q2_start])\n",
    "\n",
    "        # Higher cap\n",
    "        box_plot['caps'][2*box_no + 1].set_ydata([q4_end, q4_end])\n",
    "\n",
    "        # Higher whiskers\n",
    "        box_plot['whiskers'][2*box_no + 1].set_ydata([q4_start, q4_end])\n",
    "\n",
    "        # Box\n",
    "        path = box_plot['boxes'][box_no].get_path()\n",
    "        path.vertices[0][1] = q2_start\n",
    "        path.vertices[1][1] = q2_start\n",
    "        path.vertices[2][1] = q4_start\n",
    "        path.vertices[3][1] = q4_start\n",
    "        path.vertices[4][1] = q2_start\n",
    "\n",
    "        # Median\n",
    "        box_plot['medians'][box_no].set_ydata([q3_start, q3_start])\n",
    "\n",
    "        # Outliers\n",
    "        if fliers_xy is not None and len(fliers_xy[0]) != 0:\n",
    "            # If outliers exist\n",
    "            box_plot['fliers'][box_no].set(xdata = fliers_xy[0],\n",
    "                                           ydata = fliers_xy[1])\n",
    "\n",
    "            min_y = min(q1_start, min_y, fliers_xy[1].min())\n",
    "            max_y = max(q4_end, max_y, fliers_xy[1].max())\n",
    "\n",
    "        else:\n",
    "            min_y = min(q1_start, min_y)\n",
    "            max_y = max(q4_end, max_y)\n",
    "\n",
    "        # The y axis is rescaled to fit the new box plot completely with 10% \n",
    "        # of the maximum value at both ends\n",
    "        axes.set_ylim([min_y*1.1, max_y*1.1])\n",
    "\n",
    "    # If redraw is set to true, the canvas is updated.\n",
    "    if redraw:\n",
    "        ax.figure.canvas.draw()\n",
    "\n",
    "    return box_plot"
   ]
  },
  {
   "cell_type": "code",
   "execution_count": 18,
   "metadata": {},
   "outputs": [
    {
     "data": {
      "image/png": "[encoded data removed]",
      "text/plain": [
       "<Figure size 432x288 with 3 Axes>"
      ]
     },
     "metadata": {
      "needs_background": "light"
     },
     "output_type": "display_data"
    }
   ],
   "source": [
    "data = {}\n",
    "data['dataset1'] = {\"A\":\"\", \"B\":\"\"}\n",
    "data['dataset2'] = {\"A\":\"\", \"B\":\"\"}\n",
    "data['dataset3'] = {\"A\":\"\", \"B\":\"\"}\n",
    "\n",
    "df_16p = df[df[\"nb_processes\"] == 16].sort_values(\"nb_fingerprints\")\n",
    "percentiles = []\n",
    "for index, row in df_16p.iterrows():\n",
    "\n",
    "    percentiles.append([\n",
    "        row[\"min\"],\n",
    "        row[\"q1\"],\n",
    "        row[\"median\"],\n",
    "        row[\"q3\"],\n",
    "        row[\"max\"]/3\n",
    "    ])\n",
    "    \n",
    "\n",
    "df_16p2 = df_rules[df_rules[\"nb_processes\"] == 16].sort_values(\"nb_fingerprints\")\n",
    "for index, row in df_16p2.iterrows():\n",
    "\n",
    "    percentiles.append([\n",
    "        row[\"min\"],\n",
    "        row[\"q1\"],\n",
    "        row[\"median\"],\n",
    "        row[\"q3\"],\n",
    "        row[\"max\"]/3\n",
    "    ])\n",
    "\n",
    "data[\"dataset1\"][\"A\"] = percentiles[3]\n",
    "data[\"dataset2\"][\"A\"] = percentiles[4]\n",
    "data[\"dataset3\"][\"A\"] = percentiles[5]\n",
    "data[\"dataset1\"][\"B\"] = percentiles[0]\n",
    "data[\"dataset2\"][\"B\"] = percentiles[1]\n",
    "data[\"dataset3\"][\"B\"] = percentiles[2]\n",
    "\n",
    "\n",
    "fig, axes = plt.subplots(ncols=3, sharey=True)\n",
    "fig.subplots_adjust(wspace=0)\n",
    "name_to_label = {\n",
    "    \"dataset1\": \"500k fingerprints\",\n",
    "    \"dataset2\": \"1M fingerprints\",\n",
    "    \"dataset3\": \"2M fingerprints\"\n",
    "    \n",
    "}\n",
    "\n",
    "name_to_algo = {\n",
    "    \"A\": \"Rules\",\n",
    "    \"B\": \"Hybrid\"\n",
    "}\n",
    "\n",
    "axes[0].set_ylabel('Execution time (s)', fontsize=16)\n",
    "\n",
    "for ax, name in zip(axes, ['dataset1', 'dataset2', 'dataset3']):\n",
    "    customized_box_plot([data[name][item] for item in ['A', 'B']], ax)\n",
    "    ax.set(xticklabels=['Rules', 'Hybrid'], xlabel=name_to_label[name])\n",
    "    ax.margins(0.05) # Optional\n",
    "\n",
    "plt.savefig(\"./benchmark_bp_all.pdf\")\n",
    "plt.show()"
   ]
  },
  {
   "cell_type": "code",
   "execution_count": 40,
   "metadata": {},
   "outputs": [
    {
     "name": "stdout",
     "output_type": "stream",
     "text": [
      "29.974860999999997\n",
      "[1.0, 2.0, 4.0, 8.0, 16.0]\n",
      "[0.0, 42.9766830278212, 70.53711775344013, 88.07669533480072, 93.68304993974785]\n"
     ]
    },
    {
     "data": {
      "image/png": "[encoded data removed]",
      "text/plain": [
       "<Figure size 432x288 with 1 Axes>"
      ]
     },
     "metadata": {
      "needs_background": "light"
     },
     "output_type": "display_data"
    }
   ],
   "source": [
    "df_c = df[df[\"nb_fingerprints\"] == 2000000].sort_values(\"nb_processes\")\n",
    "ref_exec_time = float(df_c[df_c[\"nb_processes\"] == 1][\"avg\"])\n",
    "print(ref_exec_time)\n",
    "speed_ups = []\n",
    "processes = []\n",
    "for index, row in df_c.iterrows():\n",
    "    speed_ups.append(100*(ref_exec_time - row[\"avg\"])/ref_exec_time)\n",
    "    processes.append(row[\"nb_processes\"])\n",
    "    if row[\"nb_processes\"] > 15:\n",
    "        break\n",
    "   \n",
    "with open(\"./parallel_gain.csv\", \"w+\") as f:\n",
    "    f.write(\"num_proc,speed_up\\n\")\n",
    "    for idx in range(len(speed_ups)):\n",
    "        f.write(\"{:d},{:f}\\n\".format(int(processes[idx]), speed_ups[idx]))\n",
    "print(processes)\n",
    "print(speed_ups)\n",
    "speed_ups[0] = 0.5\n",
    "x_pos = np.arange(len(speed_ups))\n",
    "\n",
    "plt.bar(x_pos, speed_ups)\n",
    "plt.xticks(x_pos, [\"{:.0f}\".format(x) for x in processes])\n",
    "plt.ylabel('Execution speed up (%)', fontsize=16)\n",
    "plt.xlabel('Number of processes', fontsize=16)\n",
    "plt.savefig(\"./avg_exec_time_proc.pdf\")\n",
    "plt.show()"
   ]
  },
  {
   "cell_type": "code",
   "execution_count": null,
   "metadata": {},
   "outputs": [],
   "source": []
  }
 ],
 "metadata": {
  "kernelspec": {
   "display_name": "Python 3",
   "language": "python",
   "name": "python3"
  },
  "language_info": {
   "codemirror_mode": {
    "name": "ipython",
    "version": 3
   },
   "file_extension": ".py",
   "mimetype": "text/x-python",
   "name": "python",
   "nbconvert_exporter": "python",
   "pygments_lexer": "ipython3",
   "version": "3.7.9"
  }
 },
 "nbformat": 4,
 "nbformat_minor": 2
}
